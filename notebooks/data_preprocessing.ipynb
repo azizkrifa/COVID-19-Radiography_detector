{
 "cells": [
  {
   "cell_type": "markdown",
   "id": "dataset-download-header",
   "metadata": {},
   "source": [
    "## 1. Download Dataset from Kaggle"
   ]
  },
  {
   "cell_type": "code",
   "execution_count": null,
   "id": "a41700ca",
   "metadata": {},
   "outputs": [],
   "source": [
    "import kagglehub\n",
    "\n",
    "# Download the COVID-19 Radiography Dataset from Kaggle\n",
    "# Note: Ensure Kaggle credentials are configured (kaggle.json)\n",
    "src_path = kagglehub.dataset_download(\"tawsifurrahman/covid19-radiography-database\")\n",
    "print(f\"Dataset downloaded to: {src_path}\")"
   ]
  },
  {
   "cell_type": "markdown",
   "id": "data-dir-setup",
   "metadata": {},
   "source": [
    "## 2. Configure Data Directory"
   ]
  },
  {
   "cell_type": "code",
   "execution_count": null,
   "id": "c51472f6",
   "metadata": {},
   "outputs": [],
   "source": [
    "# Set this to a custom path (e.g., Google Drive mount in Colab)\n",
    "# Leave empty (\"\") to use the current working directory\n",
    "DATA_DIR = \"\"  # Example: \"/content/drive/MyDrive/covid_data\""
   ]
  },
  {
   "cell_type": "markdown",
   "id": "preprocess-data",
   "metadata": {},
   "source": [
    "## 3. Preprocess and Organize Data"
   ]
  },
  {
   "cell_type": "code",
   "execution_count": null,
   "id": "2dc93915",
   "metadata": {},
   "outputs": [],
   "source": [
    "import shutil\n",
    "from pathlib import Path\n",
    "import os\n",
    "\n",
    "# Define paths\n",
    "source_root = Path(src_path) / \"COVID-19_Radiography_Dataset\"\n",
    "target_root = Path(DATA_DIR) / \"data_for_split\" if DATA_DIR else Path(\"data_for_split\")\n",
    "\n",
    "# Class folders to process\n",
    "classes = [\"COVID\", \"Normal\", \"Lung_Opacity\", \"Viral Pneumonia\"]\n",
    "\n",
    "# Copy images to a unified directory (skip if already exists)\n",
    "try:\n",
    "    for cls in classes:\n",
    "        source = source_root / cls / \"images\"\n",
    "        target = target_root / cls\n",
    "        target.mkdir(parents=True, exist_ok=True)\n",
    "\n",
    "        for file in source.glob(\"*.*\"):\n",
    "            shutil.copy(file, target)\n",
    "    print(f\"✅ Images copied to: {target_root}\")\n",
    "except Exception as e:\n",
    "    print(f\"❌ Error during copy: {e}\")"
   ]
  },
  {
   "cell_type": "markdown",
   "id": "split-data",
   "metadata": {},
   "source": [
    "## 4. Split Data into Train/Val/Test"
   ]
  },
  {
   "cell_type": "code",
   "execution_count": null,
   "id": "4314bc81",
   "metadata": {},
   "outputs": [],
   "source": [
    "!pip install split-folders -q\n",
    "\n",
    "import splitfolders\n",
    "\n",
    "# Define output directory\n",
    "base_dir = Path(DATA_DIR) / \"dataset\" if DATA_DIR else Path(\"dataset\")\n",
    "\n",
    "# Split data into 70% train, 20% validation, 10% test\n",
    "splitfolders.ratio(\n",
    "    str(target_root),  # Input directory\n",
    "    output=str(base_dir),\n",
    "    seed=42,  # For reproducibility\n",
    "    ratio=(0.7, 0.2, 0.1),\n",
    "    group_prefix=None\n",
    ")\n",
    "\n",
    "print(f\"✅ Data split into: {base_dir}\")"
   ]
  },
  {
   "cell_type": "markdown",
   "id": "check-imbalance",
   "metadata": {},
   "source": [
    "## 5. Analyze Class Distribution (Before Augmentation)"
   ]
  },
  {
   "cell_type": "code",
   "execution_count": null,
   "id": "dd108b8c",
   "metadata": {},
   "outputs": [],
   "source": [
    "train_path = base_dir / \"train\"\n",
    "display_data_distribution(train_path)  # Custom function to plot class counts"
   ]
  },
  {
   "cell_type": "markdown",
   "id": "3a7d3552",
   "metadata": {},
   "source": [
    "**Observation:** The training set shows significant class imbalance (e.g., fewer `COVID` images than `Normal`). We'll address this with augmentation."
   ]
  },
  {
   "cell_type": "markdown",
   "id": "augmentation-plan",
   "metadata": {},
   "source": [
    "## 6. Apply Data Augmentation"
   ]
  },
  {
   "cell_type": "code",
   "execution_count": null,
   "id": "e53d4cad",
   "metadata": {},
   "outputs": [],
   "source": [
    "from tensorflow.keras.preprocessing.image import ImageDataGenerator, load_img, img_to_array\n",
    "\n",
    "# Configure augmentation for minority classes only\n",
    "aug_dir = base_dir / \"train_augmented\"\n",
    "classes_to_augment = ['COVID', 'Lung_Opacity', 'Viral Pneumonia']  # Skip 'Normal'\n",
    "\n",
    "# Augmentation settings (preserve medical relevance)\n",
    "augmenter = ImageDataGenerator(\n",
    "    rotation_range=15,  # Avoid extreme rotations\n",
    "    zoom_range=0.1,\n",
    "    width_shift_range=0.1,\n",
    "    height_shift_range=0.1,\n",
    "    horizontal_flip=True,\n",
    "    fill_mode=\"constant\",  # Black borders for medical consistency\n",
    "    cval=0.0\n",
    ")\n",
    "\n",
    "# Copy original images and augment minority classes\n",
    "try:\n",
    "    for cls in os.listdir(train_path):\n",
    "        src = train_path / cls\n",
    "        dst = aug_dir / cls\n",
    "        os.makedirs(dst, exist_ok=True)\n",
    "\n",
    "        # Copy all originals\n",
    "        for img_name in os.listdir(src):\n",
    "            shutil.copy(src / img_name, dst / img_name)\n",
    "\n",
    "            # Augment only minority classes (3x per image)\n",
    "            if cls in classes_to_augment:\n",
    "                img = load_img(src / img_name)\n",
    "                x = img_to_array(img).reshape((1,) + img_to_array(img).shape)\n",
    "                \n",
    "                for _ in augmenter.flow(x, batch_size=1, save_to_dir=dst, \n",
    "                                       save_prefix='aug', save_format='png'):\n",
    "                    break  # Generate 1 augmented version (adjust loop for more)\n",
    "    \n",
    "    print(f\"✅ Augmented data saved to: {aug_dir}\")\n",
    "except Exception as e:\n",
    "    print(f\"❌ Augmentation failed: {e}\")"
   ]
  },
  {
   "cell_type": "markdown",
   "id": "verify-augmentation",
   "metadata": {},
   "source": [
    "## 7. Verify Augmented Distribution"
   ]
  },
  {
   "cell_type": "code",
   "execution_count": null,
   "id": "f846c635",
   "metadata": {},
   "outputs": [],
   "source": [
    "display_data_distribution(aug_dir)  # Confirm balanced classes"
   ]
  }
 ],
 "metadata": {
  "kernelspec": {
   "display_name": "Python 3 (ipykernel)",
   "language": "python",
   "name": "python3"
  },
  "language_info": {
   "codemirror_mode": {
    "name": "ipython",
    "version": 3
   },
   "file_extension": ".py",
   "mimetype": "text/x-python",
   "name": "python",
   "nbconvert_exporter": "python",
   "pygments_lexer": "ipython3",
   "version": "3.9.18"
  }
 },
 "nbformat": 4,
 "nbformat_minor": 5
}

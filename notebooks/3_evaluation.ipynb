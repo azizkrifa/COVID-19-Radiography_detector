{
 "cells": [
  {
   "cell_type": "code",
   "execution_count": null,
   "id": "52e0f54a",
   "metadata": {
    "vscode": {
     "languageId": "plaintext"
    }
   },
   "outputs": [],
   "source": [
    "from tensorflow.keras.models import load_model\n",
    "from utils import"
   ]
  },
  {
   "cell_type": "code",
   "execution_count": null,
   "id": "007bfc50",
   "metadata": {
    "vscode": {
     "languageId": "plaintext"
    }
   },
   "outputs": [],
   "source": [
    "model=load_model('/output/best_model.h5')\n",
    "test_data = load_test_data()"
   ]
  },
  {
   "cell_type": "code",
   "execution_count": null,
   "id": "b37df8d6",
   "metadata": {
    "vscode": {
     "languageId": "plaintext"
    }
   },
   "outputs": [],
   "source": [
    "visualize_samples(test_data)"
   ]
  },
  {
   "cell_type": "code",
   "execution_count": null,
   "id": "0f5802dc",
   "metadata": {
    "vscode": {
     "languageId": "plaintext"
    }
   },
   "outputs": [],
   "source": [
    "loss, acc = model.evaluate(test_generator)\n",
    "print(f\"\"\"✅ Test Accuracy: {acc*100:.2f}%\n",
    "✅ Test loss :{loss:.3f}\"\"\")"
   ]
  },
  {
   "cell_type": "code",
   "execution_count": null,
   "id": "57f82993",
   "metadata": {
    "vscode": {
     "languageId": "plaintext"
    }
   },
   "outputs": [],
   "source": [
    "visualize_test_predictons(model)"
   ]
  }
 ],
 "metadata": {
  "language_info": {
   "name": "python"
  }
 },
 "nbformat": 4,
 "nbformat_minor": 5
}

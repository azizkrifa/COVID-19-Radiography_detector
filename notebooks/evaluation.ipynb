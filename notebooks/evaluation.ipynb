{
 "cells": [
  {
   "cell_type": "markdown",
   "id": "model-evaluation-header",
   "metadata": {},
   "source": [
    "# COVID-19 Radiography Model Evaluation"
   ]
  },
  {
   "cell_type": "markdown",
   "id": "imports-section",
   "metadata": {},
   "source": [
    "## 1. Import Dependencies"
   ]
  },
  {
   "cell_type": "code",
   "execution_count": null,
   "id": "52e0f54a",
   "metadata": {},
   "outputs": [],
   "source": [
    "from tensorflow.keras.models import load_model\n",
    "import numpy as np\n",
    "import os\n",
    "from pathlib import Path\n",
    "\n",
    "# Import custom utilities\n",
    "try:\n",
    "    from utils import load_test_data, visualize_samples, \\\n",
    "                  classification_report_and_confusion_matrix, \\\n",
    "                  visualize_test_predictons\n",
    "    from data_preprocessing import DATA_DIR\n",
    "except ImportError as e:\n",
    "    print(f\"❌ Error importing modules: {e}\")\n",
    "    raise"
   ]
  },
  {
   "cell_type": "markdown",
   "id": "load-model-section",
   "metadata": {},
   "source": [
    "## 2. Load Model and Test Data"
   ]
  },
  {
   "cell_type": "code",
   "execution_count": null,
   "id": "007bfc50",
   "metadata": {},
   "outputs": [],
   "source": [
    "# Define model path (adjust as needed)\n",
    "MODEL_PATH = Path('/output/best_model.h5')\n",
    "\n",
    "try:\n",
    "    # Load trained model\n",
    "    model = load_model(MODEL_PATH)\n",
    "    print(f\"✅ Model loaded successfully from {MODEL_PATH}\")\n",
    "    \n",
    "    # Load test data\n",
    "    test_data = load_test_data(DATA_DIR)\n",
    "    print(f\"✅ Test data loaded from {DATA_DIR}\")\n",
    "    \n",
    "except Exception as e:\n",
    "    print(f\"❌ Error loading model or data: {e}\")\n",
    "    raise"
   ]
  },
  {
   "cell_type": "markdown",
   "id": "visualization-section",
   "metadata": {},
   "source": [
    "## 3. Visualize Sample Test Images"
   ]
  },
  {
   "cell_type": "code",
   "execution_count": null,
   "id": "b37df8d6",
   "metadata": {},
   "outputs": [],
   "source": [
    "try:\n",
    "    visualize_samples(test_data, n_samples=8)  # Show 8 random samples\n",
    "except Exception as e:\n",
    "    print(f\"❌ Error during visualization: {e}\")"
   ]
  },
  {
   "cell_type": "markdown",
   "id": "evaluation-section",
   "metadata": {},
   "source": [
    "## 4. Evaluate Model Performance"
   ]
  },
  {
   "cell_type": "code",
   "execution_count": null,
   "id": "0f5802dc",
   "metadata": {},
   "outputs": [],
   "source": [
    "try:\n",
    "    # Evaluate model on test data\n",
    "    loss, acc = model.evaluate(test_data, verbose=0)\n",
    "    \n",
    "    print(f\"\"\"\\n📊 Evaluation Results:\n",
    "    ✅ Test Accuracy: {acc*100:.2f}%\n",
    "    ✅ Test Loss: {loss:.4f}\n",
    "    \"\"\")\n",
    "except Exception as e:\n",
    "    print(f\"❌ Evaluation failed: {e}\")"
   ]
  },
  {
   "cell_type": "markdown",
   "id": "metrics-section",
   "metadata": {},
   "source": [
    "## 5. Detailed Classification Metrics"
   ]
  },
  {
   "cell_type": "code",
   "execution_count": null,
   "id": "92421d1c",
   "metadata": {},
   "outputs": [],
   "source": [
    "try:\n",
    "    # Generate and display classification report and confusion matrix\n",
    "    classification_report_and_confusion_matrix(model, test_data)\n",
    "except Exception as e:\n",
    "    print(f\"❌ Error generating metrics: {e}\")"
   ]
  },
  {
   "cell_type": "markdown",
   "id": "predictions-section",
   "metadata": {},
   "source": [
    "## 6. Visualize Model Predictions"
   ]
  },
  {
   "cell_type": "code",
   "execution_count": null,
   "id": "57f82993",
   "metadata": {},
   "outputs": [],
   "source": [
    "try:\n",
    "    # Visualize predictions on test samples\n",
    "    visualize_test_predictons(model, test_data, n_samples=12)  # Show 12 predictions\n",
    "except Exception as e:\n",
    "    print(f\"❌ Error visualizing predictions: {e}\")"
   ]
  }
 ],
 "metadata": {
  "kernelspec": {
   "display_name": "Python 3 (ipykernel)",
   "language": "python",
   "name": "python3"
  },
  "language_info": {
   "codemirror_mode": {
    "name": "ipython",
    "version": 3
   },
   "file_extension": ".py",
   "mimetype": "text/x-python",
   "name": "python",
   "nbconvert_exporter": "python",
   "pygments_lexer": "ipython3",
   "version": "3.9.18"
  }
 },
 "nbformat": 4,
 "nbformat_minor": 5
}
